{
  "cells": [
    {
      "cell_type": "markdown",
      "metadata": {
        "id": "view-in-github",
        "colab_type": "text"
      },
      "source": [
        "<a href=\"https://colab.research.google.com/github/Dirkster99/ChessMatingPatterns/blob/main/CoLab_Python_Parser_V2/02_Filter_lichess_db_for_Vukovic_mate_patterns.ipynb\" target=\"_parent\"><img src=\"https://colab.research.google.com/assets/colab-badge.svg\" alt=\"Open In Colab\"/></a>"
      ]
    },
    {
      "cell_type": "code",
      "source": [
        "!wget https://database.lichess.org/lichess_db_puzzle.csv.zst"
      ],
      "metadata": {
        "id": "yHwjDHKpIWSY",
        "outputId": "bbd86aa5-7da5-48da-ea09-b22ad19006d6",
        "colab": {
          "base_uri": "https://localhost:8080/"
        }
      },
      "execution_count": null,
      "outputs": [
        {
          "output_type": "stream",
          "name": "stdout",
          "text": [
            "--2025-01-03 15:20:07--  https://database.lichess.org/lichess_db_puzzle.csv.zst\n",
            "Resolving database.lichess.org (database.lichess.org)... 141.95.66.62, 2001:41d0:700:5e3e::\n",
            "Connecting to database.lichess.org (database.lichess.org)|141.95.66.62|:443... connected.\n",
            "HTTP request sent, awaiting response... 200 OK\n",
            "Length: 227941696 (217M) [application/octet-stream]\n",
            "Saving to: ‘lichess_db_puzzle.csv.zst’\n",
            "\n",
            "lichess_db_puzzle.c 100%[===================>] 217.38M  22.5MB/s    in 10s     \n",
            "\n",
            "2025-01-03 15:20:18 (21.0 MB/s) - ‘lichess_db_puzzle.csv.zst’ saved [227941696/227941696]\n",
            "\n"
          ]
        }
      ]
    },
    {
      "cell_type": "code",
      "source": [
        "!pip install zstandard"
      ],
      "metadata": {
        "id": "LiW7t02PIZjd",
        "outputId": "def0cc20-55fb-4775-f346-84b642f3b287",
        "colab": {
          "base_uri": "https://localhost:8080/"
        }
      },
      "execution_count": null,
      "outputs": [
        {
          "output_type": "stream",
          "name": "stdout",
          "text": [
            "Requirement already satisfied: zstandard in /usr/local/lib/python3.10/dist-packages (0.23.0)\n"
          ]
        }
      ]
    },
    {
      "cell_type": "code",
      "source": [
        "import zstandard as zstd\n",
        "\n",
        "# Specify the input and output file names\n",
        "input_file = 'lichess_db_puzzle.csv.zst'\n",
        "output_file = 'lichess_db_puzzle.csv'\n",
        "\n",
        "# Open the input file and decompress it\n",
        "with open(input_file, 'rb') as compressed:\n",
        "    with open(output_file, 'wb') as decompressed:\n",
        "        dctx = zstd.ZstdDecompressor()\n",
        "        dctx.copy_stream(compressed, decompressed)\n",
        "\n",
        "print('Decompression complete. The file is saved as', output_file)"
      ],
      "metadata": {
        "id": "vgn4pY-vIjkI",
        "outputId": "6881d67c-8623-439a-a512-a2bf94eb0b0f",
        "colab": {
          "base_uri": "https://localhost:8080/"
        }
      },
      "execution_count": null,
      "outputs": [
        {
          "output_type": "stream",
          "name": "stdout",
          "text": [
            "Decompression complete. The file is saved as lichess_db_puzzle.csv\n"
          ]
        }
      ]
    },
    {
      "cell_type": "code",
      "source": [
        "!head -n 50 {output_file}"
      ],
      "metadata": {
        "colab": {
          "base_uri": "https://localhost:8080/"
        },
        "id": "xuJfT6Q5aLI2",
        "outputId": "948d6d6a-a8a5-4f48-a007-a6197371510c"
      },
      "execution_count": null,
      "outputs": [
        {
          "output_type": "stream",
          "name": "stdout",
          "text": [
            "PuzzleId,FEN,Moves,Rating,RatingDeviation,Popularity,NbPlays,Themes,GameUrl,OpeningTags\n",
            "00008,r6k/pp2r2p/4Rp1Q/3p4/8/1N1P2R1/PqP2bPP/7K b - - 0 24,f2g3 e6e7 b2b1 b3c1 b1c1 h6c1,1902,76,95,7226,crushing hangingPiece long middlegame,https://lichess.org/787zsVup/black#48,\n",
            "0000D,5rk1/1p3ppp/pq3b2/8/8/1P1Q1N2/P4PPP/3R2K1 w - - 2 27,d3d6 f8d8 d6d8 f6d8,1512,74,96,29629,advantage endgame short,https://lichess.org/F8M8OS71#53,\n",
            "0008Q,8/4R3/1p2P3/p4r2/P6p/1P3Pk1/4K3/8 w - - 1 64,e7f7 f5e5 e2f1 e5e6,1300,75,90,666,advantage endgame rookEndgame short,https://lichess.org/MQSyb3KW#127,\n",
            "0009B,r2qr1k1/b1p2ppp/pp4n1/P1P1p3/4P1n1/B2P2Pb/3NBP1P/RN1QR1K1 b - - 1 16,b6c5 e2g4 h3g4 d1g4,1078,74,87,573,advantage middlegame short,https://lichess.org/4MWQCxQ6/black#32,Kings_Pawn_Game Kings_Pawn_Game_Leonardis_Variation\n",
            "000VW,r4r2/1p3pkp/p5p1/3R1N1Q/3P4/8/P1q2P2/3R2K1 b - - 3 25,g6f5 d5c5 c2e4 h5g5 g7h8 g5f6,2877,100,91,154,crushing endgame long,https://lichess.org/e9AY2m5j/black#50,\n",
            "000Vc,8/8/4k1p1/2KpP2p/5PP1/8/8/8 w - - 0 53,g4h5 g6h5 f4f5 e6e5 f5f6 e5f6,1575,80,75,97,crushing endgame long pawnEndgame,https://lichess.org/l6AejDMO#105,\n",
            "000Zo,4r3/1k6/pp3r2/1b2P2p/3R1p2/P1R2P2/1P4PP/6K1 w - - 0 35,e5f6 e8e1 g1f2 e1f1,1353,75,86,622,endgame mate mateIn2 short,https://lichess.org/n8Ff742v#69,\n",
            "000aY,r4rk1/pp3ppp/2n1b3/q1pp2B1/8/P1Q2NP1/1PP1PP1P/2KR3R w - - 0 15,g5e7 a5c3 b2c3 c6e7,1440,79,74,507,advantage master middlegame short,https://lichess.org/iihZGl6t#29,Benoni_Defense Benoni_Defense_Benoni-Indian_Defense\n",
            "000hf,r1bqk2r/pp1nbNp1/2p1p2p/8/2BP4/1PN3P1/P3QP1P/3R1RK1 b kq - 0 19,e8f7 e2e6 f7f8 e6f7,1511,75,91,541,mate mateIn2 middlegame short,https://lichess.org/71ygsFeE/black#38,Horwitz_Defense Horwitz_Defense_Other_variations\n",
            "000lC,3r3r/pQNk1ppp/1qnb1n2/1B6/8/8/PPP3PP/3R1R1K w - - 5 19,d1d6 d7d6 b7b6 a7b6,1352,75,96,2984,advantage hangingPiece middlegame short,https://lichess.org/vaqz2bx6#37,\n",
            "000mr,5r1k/5rp1/p7/1b2B2p/1P1P1Pq1/2R1Q3/P3p1P1/2R3K1 w - - 0 41,e3g3 f7f4 e5f4 f8f4,1941,85,62,96,crushing middlegame short,https://lichess.org/8sVpuwso#81,\n",
            "000qP,8/7R/8/5p2/4bk1P/8/2r2K2/6R1 w - - 7 51,f2f1 f4f3 f1e1 c2c1 e1d2 c1g1,2005,78,92,811,crushing endgame exposedKing long skewer,https://lichess.org/r4xUR6fC#101,\n",
            "000rO,3R4/8/K7/pB2b3/1p6/1P2k3/3p4/8 w - - 4 58,a6a5 e5c7 a5b4 c7d8,1075,81,85,65,crushing endgame fork master short,https://lichess.org/tzeeBEc2#115,\n",
            "000tp,4r3/5pk1/1p3np1/3p3p/2qQ4/P4N1P/1P3RP1/7K w - - 6 34,d4b6 f6e4 h1g1 e4f2,2075,75,81,116,crushing endgame short trappedPiece,https://lichess.org/GeXqsW90#67,\n",
            "00143,r2q1rk1/5ppp/1np5/p1b5/2p1B3/P7/1P3PPP/R1BQ1RK1 b - - 1 17,d8f6 d1h5 h7h6 h5c5,1761,74,91,2704,advantage middlegame short,https://lichess.org/jcuxlI63/black#34,Scotch_Game Scotch_Game_Mieses_Variation\n",
            "0017R,r2qk2r/pp2ppbp/1n1p2p1/3Pn3/2P5/2NBBP1P/PP3P2/R2QK2R b KQkq - 0 12,e5c4 d3c4 b6c4 d1a4 d8d7 a4c4,1566,77,98,1436,advantage fork long middlegame,https://lichess.org/ol84k0z4/black#24,Alekhine_Defense Alekhine_Defense_Other_variations\n",
            "0018S,2kr3r/pp3p2/4p2p/1N1p2p1/3Q4/1P1P4/2q2PPP/5RK1 b - - 1 20,b7b6 d4a1 a7a5 f1c1,2694,117,90,1713,advantage endgame pin short,https://lichess.org/H1ARO2GL/black#40,\n",
            "001Hi,6k1/pp1r1pp1/1qp1p2p/4P2P/5Q2/1P4R1/P1Pr1PP1/R5K1 b - - 4 23,b6d4 f4f6 d4f2 f6f2 d2f2 g1f2,2389,115,58,15,advantage endgame long pin,https://lichess.org/tUkE0z1z/black#46,\n",
            "001Wz,4r1k1/5ppp/r1p5/p1n1RP2/8/2P2N1P/2P3P1/3R2K1 b - - 0 21,e8e5 d1d8 e5e8 d8e8,1125,82,88,71,backRankMate endgame mate mateIn2 short,https://lichess.org/84RH3LaP/black#42,\n",
            "001XA,1qr2rk1/pb2bppp/8/8/2p1N3/P1Bn2P1/2Q2PBP/1R3RK1 b - - 3 23,b8c7 b1b7 c7b7 e4f6 e7f6 g2b7,1725,75,91,1204,crushing discoveredAttack long master middlegame sacrifice,https://lichess.org/KZRiN695/black#46,\n",
            "001aK,6k1/5p2/4p3/P1B5/2P4P/4Pnp1/Rb1rN3/5K2 b - - 1 33,d2e2 f1e2 g3g2 e3e4 f3d4 e2f2,2070,80,100,47,crushing endgame hangingPiece long quietMove,https://lichess.org/Epr0AiEh/black#66,\n",
            "001cr,8/3B2pp/p5k1/2p3P1/1p1p1K2/8/1P6/8 b - - 0 38,c5c4 d7e8,1792,76,91,991,bishopEndgame endgame mate mateIn1 oneMove,https://lichess.org/7FFNwibw/black#76,\n",
            "001gi,r6r/1pNk1ppp/2np4/b3p3/4P1b1/N1Q5/P4PPP/R3KB1R w KQ - 3 18,c7a8 a5c3,824,120,62,239,bodenMate hangingPiece mate mateIn1 middlegame oneMove,https://lichess.org/1sV2Hr22#35,Sicilian_Defense Sicilian_Defense_Other_variations\n",
            "001h8,2r3k1/2r4p/4p1p1/1p1q1pP1/p1bP1P1Q/P6R/5B2/2R3K1 b - - 5 34,c4e2 h4h7 c7h7 c1c8 g8g7 c8c7,1884,76,93,541,crushing deflection kingsideAttack long middlegame sacrifice,https://lichess.org/IxCahP6X/black#68,\n",
            "001m3,7r/6k1/2b1pp2/8/P1N3p1/5nP1/4RP2/Q4K2 w - - 2 38,e2e6 h8h1 f1e2 h1a1,1497,75,87,265,advantage endgame short skewer,https://lichess.org/LELOz22f#75,\n",
            "001om,5r1k/pp4pp/5p2/1BbQp1r1/6K1/7P/1PP3P1/3R3R w - - 2 26,g4h4 c5f2 g2g3 f2g3,1018,80,89,220,mate mateIn2 middlegame short,https://lichess.org/VWOIWtIh#51,\n",
            "001u3,2r3k1/p1q2pp1/Q3p2p/b1Np4/2nP1P2/4P1P1/5K1P/2B1N3 b - - 3 33,c7b6 a6c8 g8h7 c8b7,2175,81,55,77,advantage hangingPiece middlegame short,https://lichess.org/BBn6ipaK/black#66,\n",
            "001uD,6k1/1p3pp1/1p5p/2r1p3/2n5/r3PN2/2RnNPPP/2R3K1 b - - 1 32,f7f6 f3d2 c4d2 c2d2 c5c1 e2c1,1822,75,93,790,advantage long middlegame,https://lichess.org/2qkVLUl6/black#64,\n",
            "001w5,1rb2rk1/q5P1/4p2p/3p3p/3P1P2/2P5/2QK3P/3R2R1 b - - 0 29,f8f7 c2h7 g8h7 g7g8q,1049,80,85,205,advancedPawn attraction mate mateIn2 middlegame promotion short,https://lichess.org/0e1vxAEn/black#58,\n",
            "001wR,6nr/pp3p1p/k1p5/8/1QN5/2P1P3/4KPqP/8 b - - 5 26,b7b5 b4a5 a6b7 c4d6 b7b8 a5d8,1168,76,98,2031,endgame long mate mateIn3,https://lichess.org/ruvbd9JW/black#52,\n",
            "001wb,r3k2r/pb1p1ppp/1b4q1/1Q2P3/8/2NP1Pn1/PP4PP/R1B2R1K w kq - 1 17,h2g3 g6h5,1264,77,90,109,mate mateIn1 middlegame oneMove,https://lichess.org/hNzYRMWP#33,Ruy_Lopez Ruy_Lopez_Bird_Variation\n",
            "001wr,r4rk1/p3ppbp/Pp1q1np1/3PpbB1/2B5/2N5/1PPQ1PPP/3RR1K1 w - - 4 18,f2f3 d6c5 g1h1 c5c4,1079,74,96,2201,advantage fork master masterVsMaster middlegame short,https://lichess.org/KnJ2mojX#35,Pirc_Defense Pirc_Defense_Classical_Variation\n",
            "001xO,k1r1b3/p1r1nppp/1p1qpn2/2Np4/1P1P4/PQRBPN2/5PPP/2R3K1 w - - 0 19,d3a6 b6c5 a6c8 c5c4,1829,74,92,1204,crushing master masterVsMaster middlegame sacrifice short,https://lichess.org/fNCePFgY#37,Slav_Defense Slav_Defense_Other_variations\n",
            "001xl,8/4R1k1/p5pp/3B4/5q2/8/5P1P/6K1 b - - 5 40,g7f6 e7f7 f6e5 f7f4,1173,78,94,11257,advantage endgame master masterVsMaster short skewer superGM,https://lichess.org/bEQkfPQD/black#80,\n",
            "00206,r3kb1r/pppqpn1p/5p2/3p1bpQ/2PP4/4P1B1/PP3PPP/RN2KB1R w KQkq - 1 11,b1c3 f5g4 h5g4 d7g4,1670,73,96,28738,advantage opening short trappedPiece,https://lichess.org/MbJRo6PT#21,Queens_Pawn_Game Queens_Pawn_Game_Accelerated_London_System\n",
            "002CP,r5k1/pp4pp/4p1q1/4p3/3n4/P5P1/1PP2Q1P/2KR1R2 w - - 4 24,f2e3 g6c2,927,81,69,83,endgame mate mateIn1 oneMove queensideAttack,https://lichess.org/pHZnIFdb#47,\n",
            "002Cw,r7/2p2r1k/p2p1q1p/Pp1P4/1P2P3/2PQ4/6R1/R5K1 b - - 2 28,f7g7 e4e5 f6g6 g2g6,1051,83,94,2130,crushing discoveredAttack endgame short,https://lichess.org/lxiSa85s/black#56,\n",
            "002E4,8/8/kpq5/p4pQp/P7/7P/3r2P1/4R2K b - - 10 48,c6a4 g5d2,974,92,33,44,crushing endgame hangingPiece oneMove,https://lichess.org/JwMca3Nw/black#96,\n",
            "002GQ,5rk1/5ppp/4p3/4N3/8/1Pn5/5PPP/5RK1 w - - 0 28,f1c1 c3e2 g1f1 e2c1,649,79,73,128,crushing endgame fork short,https://lichess.org/2K7g2pDT#55,\n",
            "002IE,r3brk1/5pp1/p1nqpn1p/P2pN3/2pP4/2P1PN2/5PPP/RB1QK2R b KQ - 4 16,c6e5 d4e5 d6e7 e5f6,1212,89,60,27,advantage fork middlegame short,https://lichess.org/fDwvVUIp/black#32,Queens_Pawn_Game Queens_Pawn_Game_Accelerated_London_System\n",
            "002KJ,r3kb1r/ppq2ppp/4pn2/2Ppn3/1P4bP/2P2N2/P3BPP1/RNBQ1RK1 b kq - 2 10,f8e7 f3e5 c7e5 e2g4,1343,76,93,1370,crushing discoveredAttack middlegame short,https://lichess.org/2NpTzh7O/black#20,Caro-Kann_Defense Caro-Kann_Defense_Advance_Variation\n",
            "002LF,7r/p2q1pk1/1pp3p1/8/6P1/4Q3/PP1R1P1r/5KN1 b - - 0 38,d7g4 e3e5 f7f6 e5c7 g7h6 c7h2,2238,78,89,412,advantage endgame interference long,https://lichess.org/md88dHiL/black#76,\n",
            "002LW,3r1rk1/1b1n1pp1/3p4/p4PPQ/4P3/3q1BN1/8/2R2RK1 b - - 1 28,d7e5 f5f6 e5f3 f1f3,2464,88,78,112,advantage middlegame short,https://lichess.org/0khwj5dv/black#56,\n",
            "002O7,r3qrk1/2p2pp1/p2bpn1p/2ppNb2/3P1P2/1PP1P1B1/P2N2PP/R2Q1RK1 b - - 0 14,f5g4 e5g4 f6g4 d1g4,969,92,91,345,crushing middlegame short,https://lichess.org/dFEPPiEc/black#28,Queens_Pawn_Game Queens_Pawn_Game_Accelerated_London_System\n",
            "002Tf,r3kbnr/ppp1qppp/2n5/3pP3/5B2/4PQ2/PPP2PPP/RN2KB1R w KQkq - 1 7,f1b5 e7b4 b1c3 b4b2,1589,75,83,165,advantage fork opening short,https://lichess.org/Zq56PwHK#13,Queens_Pawn_Game Queens_Pawn_Game_Chigorin_Variation\n",
            "002Ua,r4rk1/pp3ppp/3p1q2/P1P1p3/2B5/2B2n2/2P2P1P/R2Q1RK1 w - - 0 16,g1h1 f6f4 d1f3 f4f3,1700,75,94,7189,crushing kingsideAttack middlegame short,https://lichess.org/06i3eMVp#31,Sicilian_Defense Sicilian_Defense_Lowenthal_Variation\n",
            "002Uy,8/8/1p6/k7/P1R5/1K5r/8/8 w - - 26 64,c4c3 h3c3 b3c3 a5a4 c3b2 a4b4,1682,75,97,2312,crushing defensiveMove endgame long rookEndgame,https://lichess.org/sLU7YN1A#127,\n",
            "002VP,8/6p1/2B1bn2/6k1/3B4/6K1/4P3/8 b - - 4 44,e6d5 d4f6 g5f5 c6d5,1420,79,38,130,crushing endgame short,https://lichess.org/7yJGEbUK/black#88,\n",
            "002Z9,4r1k1/1p2R1p1/p2p2Pp/P1pP4/5q2/1R3p2/1P1Q3P/5B1K b - - 0 34,f4d2 e7e8,1237,99,69,48,endgame hangingPiece master mate mateIn1 oneMove,https://lichess.org/Ek4aENjD/black#68,\n"
          ]
        }
      ]
    },
    {
      "cell_type": "code",
      "source": [
        "import os\n",
        "\n",
        "# Check if the decompressed file exists\n",
        "if os.path.exists(output_file):\n",
        "    print(f\"{output_file} has been successfully created.\")\n",
        "else:\n",
        "    print(\"Decompression failed.\")"
      ],
      "metadata": {
        "id": "XUpn-mbHIkWJ",
        "outputId": "e341c731-191a-4a34-d30b-cc0b87971dcf",
        "colab": {
          "base_uri": "https://localhost:8080/"
        }
      },
      "execution_count": null,
      "outputs": [
        {
          "output_type": "stream",
          "name": "stdout",
          "text": [
            "lichess_db_puzzle.csv has been successfully created.\n"
          ]
        }
      ]
    },
    {
      "cell_type": "code",
      "source": [
        "pip install pyspark"
      ],
      "metadata": {
        "id": "l4co-crcMpM-",
        "outputId": "5ee70ac1-6447-43dc-bffe-19a8872b7f9f",
        "colab": {
          "base_uri": "https://localhost:8080/"
        }
      },
      "execution_count": null,
      "outputs": [
        {
          "output_type": "stream",
          "name": "stdout",
          "text": [
            "Requirement already satisfied: pyspark in /usr/local/lib/python3.10/dist-packages (3.5.3)\n",
            "Requirement already satisfied: py4j==0.10.9.7 in /usr/local/lib/python3.10/dist-packages (from pyspark) (0.10.9.7)\n"
          ]
        }
      ]
    },
    {
      "cell_type": "code",
      "source": [
        "from pyspark.sql import SparkSession\n",
        "\n",
        "# Initialize a Spark session\n",
        "spark = SparkSession.builder \\\n",
        "    .appName(\"Read CSV\") \\\n",
        "    .getOrCreate()\n",
        "\n",
        "# Read the CSV file into a DataFrame\n",
        "df = spark.read.csv(output_file, header=True, inferSchema=True)\n",
        "\n",
        "# Get the first 50 rows\n",
        "first_50_rows = df.limit(50)\n",
        "\n",
        "# Show the results\n",
        "first_50_rows.show()\n",
        "\n",
        "# Stop the Spark session\n",
        "spark.stop()"
      ],
      "metadata": {
        "id": "Vq35iqClIkRe",
        "outputId": "2206bfc0-891b-4c35-959e-265c00c189cb",
        "colab": {
          "base_uri": "https://localhost:8080/"
        }
      },
      "execution_count": null,
      "outputs": [
        {
          "output_type": "stream",
          "name": "stdout",
          "text": [
            "+--------+--------------------+--------------------+------+---------------+----------+-------+--------------------+--------------------+--------------------+\n",
            "|PuzzleId|                 FEN|               Moves|Rating|RatingDeviation|Popularity|NbPlays|              Themes|             GameUrl|         OpeningTags|\n",
            "+--------+--------------------+--------------------+------+---------------+----------+-------+--------------------+--------------------+--------------------+\n",
            "|   00008|r6k/pp2r2p/4Rp1Q/...|f2g3 e6e7 b2b1 b3...|  1902|             76|        95|   7226|crushing hangingP...|https://lichess.o...|                NULL|\n",
            "|   0000D|5rk1/1p3ppp/pq3b2...| d3d6 f8d8 d6d8 f6d8|  1512|             74|        96|  29629|advantage endgame...|https://lichess.o...|                NULL|\n",
            "|   0008Q|8/4R3/1p2P3/p4r2/...| e7f7 f5e5 e2f1 e5e6|  1300|             75|        90|    666|advantage endgame...|https://lichess.o...|                NULL|\n",
            "|   0009B|r2qr1k1/b1p2ppp/p...| b6c5 e2g4 h3g4 d1g4|  1078|             74|        87|    573|advantage middleg...|https://lichess.o...|Kings_Pawn_Game K...|\n",
            "|   000VW|r4r2/1p3pkp/p5p1/...|g6f5 d5c5 c2e4 h5...|  2877|            100|        91|    154|crushing endgame ...|https://lichess.o...|                NULL|\n",
            "|   000Vc|8/8/4k1p1/2KpP2p/...|g4h5 g6h5 f4f5 e6...|  1575|             80|        75|     97|crushing endgame ...|https://lichess.o...|                NULL|\n",
            "|   000Zo|4r3/1k6/pp3r2/1b2...| e5f6 e8e1 g1f2 e1f1|  1353|             75|        86|    622|endgame mate mate...|https://lichess.o...|                NULL|\n",
            "|   000aY|r4rk1/pp3ppp/2n1b...| g5e7 a5c3 b2c3 c6e7|  1440|             79|        74|    507|advantage master ...|https://lichess.o...|Benoni_Defense Be...|\n",
            "|   000hf|r1bqk2r/pp1nbNp1/...| e8f7 e2e6 f7f8 e6f7|  1511|             75|        91|    541|mate mateIn2 midd...|https://lichess.o...|Horwitz_Defense H...|\n",
            "|   000lC|3r3r/pQNk1ppp/1qn...| d1d6 d7d6 b7b6 a7b6|  1352|             75|        96|   2984|advantage hanging...|https://lichess.o...|                NULL|\n",
            "|   000mr|5r1k/5rp1/p7/1b2B...| e3g3 f7f4 e5f4 f8f4|  1941|             85|        62|     96|crushing middlega...|https://lichess.o...|                NULL|\n",
            "|   000qP|8/7R/8/5p2/4bk1P/...|f2f1 f4f3 f1e1 c2...|  2005|             78|        92|    811|crushing endgame ...|https://lichess.o...|                NULL|\n",
            "|   000rO|3R4/8/K7/pB2b3/1p...| a6a5 e5c7 a5b4 c7d8|  1075|             81|        85|     65|crushing endgame ...|https://lichess.o...|                NULL|\n",
            "|   000tp|4r3/5pk1/1p3np1/3...| d4b6 f6e4 h1g1 e4f2|  2075|             75|        81|    116|crushing endgame ...|https://lichess.o...|                NULL|\n",
            "|   00143|r2q1rk1/5ppp/1np5...| d8f6 d1h5 h7h6 h5c5|  1761|             74|        91|   2704|advantage middleg...|https://lichess.o...|Scotch_Game Scotc...|\n",
            "|   0017R|r2qk2r/pp2ppbp/1n...|e5c4 d3c4 b6c4 d1...|  1566|             77|        98|   1436|advantage fork lo...|https://lichess.o...|Alekhine_Defense ...|\n",
            "|   0018S|2kr3r/pp3p2/4p2p/...| b7b6 d4a1 a7a5 f1c1|  2694|            117|        90|   1713|advantage endgame...|https://lichess.o...|                NULL|\n",
            "|   001Hi|6k1/pp1r1pp1/1qp1...|b6d4 f4f6 d4f2 f6...|  2389|            115|        58|     15|advantage endgame...|https://lichess.o...|                NULL|\n",
            "|   001Wz|4r1k1/5ppp/r1p5/p...| e8e5 d1d8 e5e8 d8e8|  1125|             82|        88|     71|backRankMate endg...|https://lichess.o...|                NULL|\n",
            "|   001XA|1qr2rk1/pb2bppp/8...|b8c7 b1b7 c7b7 e4...|  1725|             75|        91|   1204|crushing discover...|https://lichess.o...|                NULL|\n",
            "+--------+--------------------+--------------------+------+---------------+----------+-------+--------------------+--------------------+--------------------+\n",
            "only showing top 20 rows\n",
            "\n"
          ]
        }
      ]
    },
    {
      "cell_type": "code",
      "source": [
        "from pyspark.sql import SparkSession\n",
        "from pyspark.sql.functions import col\n",
        "\n",
        "# Initialize a Spark session\n",
        "spark = SparkSession.builder \\\n",
        "    .appName(\"Read CSV and Filter\") \\\n",
        "    .getOrCreate()\n",
        "\n",
        "# Read the CSV file\n",
        "df = spark.read.csv(output_file, header=True, inferSchema=True)\n",
        "\n",
        "# Show the first 50 rows of the DataFrame\n",
        "df_first_50 = df.limit(500)\n",
        "\n",
        "# Filter the DataFrame for the column 'Themes' that contains 'mate'\n",
        "filtered_df = df_first_50.filter(col('Themes').contains('mate'))\n",
        "\n",
        "# Collect and print the results\n",
        "results = filtered_df.select('Themes').collect()\n",
        "for row in results:\n",
        "    print(row['Themes'])\n",
        "\n",
        "# Stop the Spark session\n",
        "spark.stop()"
      ],
      "metadata": {
        "id": "iz6b_DVtLUBe",
        "outputId": "1bd0c745-3463-49d6-cc00-2351b182a25e",
        "colab": {
          "base_uri": "https://localhost:8080/"
        }
      },
      "execution_count": null,
      "outputs": [
        {
          "output_type": "stream",
          "name": "stdout",
          "text": [
            "endgame mate mateIn2 short\n",
            "mate mateIn2 middlegame short\n",
            "backRankMate endgame mate mateIn2 short\n",
            "bishopEndgame endgame mate mateIn1 oneMove\n",
            "bodenMate hangingPiece mate mateIn1 middlegame oneMove\n",
            "mate mateIn2 middlegame short\n",
            "advancedPawn attraction mate mateIn2 middlegame promotion short\n",
            "endgame long mate mateIn3\n",
            "mate mateIn1 middlegame oneMove\n",
            "endgame mate mateIn1 oneMove queensideAttack\n",
            "endgame hangingPiece master mate mateIn1 oneMove\n",
            "endgame master mate mateIn1 oneMove rookEndgame\n",
            "kingsideAttack mate mateIn1 middlegame oneMove\n",
            "endgame mate mateIn1 oneMove\n",
            "backRankMate endgame fork mate mateIn2 short\n",
            "attackingF2F7 mate mateIn1 middlegame oneMove\n",
            "backRankMate mate mateIn2 middlegame short\n",
            "endgame mate mateIn1 oneMove\n",
            "mate mateIn1 middlegame oneMove\n",
            "endgame mate mateIn2 short\n",
            "kingsideAttack mate mateIn1 middlegame oneMove\n",
            "kingsideAttack long mate mateIn3 middlegame sacrifice\n",
            "endgame mate mateIn1 oneMove\n",
            "endgame mate mateIn2 pin short\n",
            "backRankMate endgame hangingPiece mate mateIn2 short\n",
            "fork mate mateIn2 middlegame short\n",
            "long mate mateIn3 middlegame queensideAttack sacrifice\n",
            "endgame mate mateIn2 short\n",
            "mate mateIn1 oneMove opening queensideAttack\n",
            "endgame mate mateIn2 short\n",
            "master mate mateIn2 middlegame pin short\n",
            "mate mateIn1 middlegame oneMove\n",
            "endgame mate mateIn2 short\n",
            "backRankMate fork mate mateIn2 middlegame short\n",
            "bodenMate mate mateIn1 middlegame oneMove\n",
            "long mate mateIn3 middlegame queensideAttack sacrifice\n",
            "advancedPawn endgame mate mateIn1 oneMove queenEndgame\n",
            "mate mateIn2 middlegame short\n",
            "backRankMate endgame mate mateIn2 short\n",
            "endgame mate mateIn1 oneMove\n",
            "backRankMate mate mateIn1 middlegame oneMove\n",
            "endgame mate mateIn1 oneMove\n",
            "endgame mate mateIn2 short\n",
            "endgame mate mateIn2 short\n",
            "endgame mate mateIn2 pin short\n",
            "hookMate mate mateIn2 middlegame short\n",
            "backRankMate hangingPiece mate mateIn1 middlegame oneMove\n",
            "endgame mate mateIn2 short\n",
            "endgame mate mateIn2 short\n",
            "mate mateIn2 middlegame short\n",
            "endgame mate mateIn2 short\n",
            "mate mateIn2 middlegame short\n",
            "discoveredAttack endgame mate mateIn2 short\n",
            "mate mateIn1 middlegame oneMove\n",
            "master mate mateIn1 middlegame oneMove\n",
            "backRankMate deflection long mate mateIn3 middlegame\n",
            "attackingF2F7 mate mateIn1 middlegame oneMove\n",
            "backRankMate endgame mate mateIn1 oneMove\n",
            "backRankMate endgame mate mateIn2 short xRayAttack\n",
            "endgame master mate mateIn1 oneMove\n",
            "mate mateIn1 oneMove opening smotheredMate\n",
            "attraction kingsideAttack long mate mateIn3 middlegame sacrifice\n",
            "endgame mate mateIn2 rookEndgame short\n",
            "endgame mate mateIn1 oneMove rookEndgame\n",
            "deflection endgame mate mateIn2 short\n",
            "kingsideAttack mate mateIn2 middlegame short\n",
            "endgame mate mateIn1 oneMove\n",
            "endgame mate mateIn2 short\n",
            "endgame mate mateIn2 short\n",
            "mate mateIn2 middlegame sacrifice short\n",
            "kingsideAttack mate mateIn1 middlegame oneMove\n",
            "kingsideAttack mate mateIn1 middlegame oneMove\n",
            "kingsideAttack mate mateIn1 middlegame oneMove\n",
            "backRankMate endgame mate mateIn2 rookEndgame short\n",
            "endgame mate mateIn2 short\n",
            "endgame mate mateIn1 oneMove rookEndgame\n",
            "endgame mate mateIn2 short\n",
            "long mate mateIn3 middlegame queensideAttack sacrifice\n",
            "endgame hangingPiece mate mateIn1 oneMove\n",
            "kingsideAttack mate mateIn1 middlegame oneMove\n",
            "doubleBishopMate mate mateIn1 middlegame oneMove\n",
            "mate mateIn1 middlegame oneMove\n",
            "kingsideAttack mate mateIn1 middlegame oneMove\n",
            "endgame mate mateIn1 oneMove\n",
            "kingsideAttack mate mateIn1 middlegame oneMove\n",
            "advancedPawn kingsideAttack long mate mateIn3 middlegame promotion sacrifice\n",
            "mate mateIn1 middlegame oneMove\n",
            "arabianMate endgame mate mateIn2 short\n",
            "endgame master mate mateIn1 oneMove\n",
            "kingsideAttack mate mateIn2 middlegame sacrifice short\n",
            "endgame mate mateIn1 oneMove rookEndgame\n",
            "attackingF2F7 mate mateIn1 oneMove opening\n",
            "endgame master mate mateIn1 oneMove\n",
            "endgame mate mateIn2 short\n",
            "mate mateIn1 middlegame oneMove\n",
            "master mate mateIn1 middlegame oneMove\n",
            "mate mateIn1 middlegame oneMove\n",
            "mate mateIn1 middlegame oneMove\n",
            "endgame mate mateIn1 oneMove\n",
            "endgame hookMate mate mateIn2 short\n",
            "endgame mate mateIn1 oneMove\n",
            "mate mateIn1 middlegame oneMove\n",
            "endgame master mate mateIn1 oneMove rookEndgame\n",
            "endgame long mate mateIn3 rookEndgame\n",
            "deflection endgame mate mateIn2 short\n",
            "exposedKing kingsideAttack long mate mateIn3 middlegame\n",
            "endgame master masterVsMaster mate mateIn1 oneMove\n",
            "backRankMate endgame mate mateIn2 rookEndgame short\n",
            "endgame mate mateIn1 oneMove\n",
            "backRankMate endgame mate mateIn2 short\n",
            "endgame mate mateIn2 short\n",
            "endgame master mate mateIn1 oneMove\n",
            "endgame mate mateIn2 short\n",
            "endgame hangingPiece mate mateIn2 short\n",
            "kingsideAttack mate mateIn1 middlegame oneMove\n",
            "endgame long mate mateIn3 rookEndgame\n",
            "endgame mate mateIn2 short\n",
            "endgame mate mateIn1 oneMove\n",
            "clearance endgame mate mateIn2 pin sacrifice short\n",
            "endgame exposedKing long master mate mateIn3 queenRookEndgame\n",
            "endgame mate mateIn2 sacrifice short\n",
            "advancedPawn doubleCheck mate mateIn4 middlegame promotion queensideAttack sacrifice veryLong\n",
            "mate mateIn1 middlegame oneMove\n",
            "kingsideAttack mate mateIn2 middlegame short\n",
            "endgame mate mateIn2 short\n",
            "endgame mate mateIn2 short\n",
            "kingsideAttack mate mateIn2 middlegame short\n",
            "endgame mate mateIn2 short\n",
            "backRankMate mate mateIn2 middlegame short\n",
            "mate mateIn1 middlegame oneMove\n",
            "mate mateIn1 middlegame oneMove\n",
            "endgame mate mateIn2 short\n",
            "attraction fork long mate mateIn3 middlegame sacrifice\n",
            "backRankMate endgame mate mateIn2 short\n",
            "mate mateIn2 middlegame short\n",
            "endgame mate mateIn2 sacrifice short\n",
            "endgame kingsideAttack master mate mateIn2 queenRookEndgame short\n",
            "endgame mate mateIn2 short\n",
            "mate mateIn1 middlegame oneMove\n",
            "backRankMate deflection endgame fork master mate mateIn4 pin sacrifice veryLong\n",
            "backRankMate long mate mateIn3 middlegame sacrifice\n",
            "mate mateIn2 middlegame queensideAttack sacrifice short\n",
            "endgame mate mateIn2 short\n",
            "endgame mate mateIn1 oneMove\n",
            "endgame master mate mateIn1 oneMove\n",
            "mate mateIn1 oneMove opening\n",
            "endgame mate mateIn1 oneMove\n",
            "kingsideAttack mate mateIn2 middlegame short\n",
            "endgame mate mateIn1 oneMove\n",
            "mate mateIn2 middlegame short\n",
            "kingsideAttack long mate mateIn3 middlegame sacrifice\n",
            "endgame knightEndgame mate mateIn2 short\n"
          ]
        }
      ]
    },
    {
      "cell_type": "code",
      "source": [
        "from pyspark.sql import SparkSession\n",
        "from pyspark.sql.functions import col\n",
        "\n",
        "# Step 1: Initialize a Spark session\n",
        "spark = SparkSession.builder \\\n",
        "    .appName(\"Filter CSV Example\") \\\n",
        "    .getOrCreate()\n",
        "\n",
        "# Step 2: Read the CSV file\n",
        "df = spark.read.csv(output_file, header=True, inferSchema=True)\n",
        "\n",
        "# Step 3: Filter rows where 'Themes' contains 'mate'\n",
        "filtered_df = df.filter(col('Themes').contains('mate'))\n",
        "\n",
        "# Step 4: Write the resulting DataFrame to a single CSV file\n",
        "\n",
        "filtered_output_file = 'lichess_db_puzzle_mate.csv'  # Modify with your desired output path\n",
        "# filtered_df.coalesce(1).write.csv(filtered_output_file, header=True, mode='overwrite')\n",
        "filtered_df.toPandas().to_csv(filtered_output_file, header=True, index=False)\n",
        "\n",
        "# Stop the Spark session\n",
        "spark.stop()"
      ],
      "metadata": {
        "id": "ISEgTVrhMCaM"
      },
      "execution_count": null,
      "outputs": []
    },
    {
      "cell_type": "code",
      "source": [
        "# remove outuput file or directory\n",
        "# !rm -r {filtered_output_file}"
      ],
      "metadata": {
        "id": "N638STv8OFyQ"
      },
      "execution_count": null,
      "outputs": []
    },
    {
      "cell_type": "code",
      "source": [
        "# Use the ! to run the wc command from within Jupyter notebook\n",
        "lines_count = !wc -l < {filtered_output_file}\n",
        "print(f\"Found: {lines_count[0]} lines containing a final mate position.\")"
      ],
      "metadata": {
        "id": "W1HwjaS7NuAc",
        "outputId": "b01c49ec-458f-495b-8a24-d33ca89b450f",
        "colab": {
          "base_uri": "https://localhost:8080/"
        }
      },
      "execution_count": null,
      "outputs": [
        {
          "output_type": "stream",
          "name": "stdout",
          "text": [
            "Found: 1230152 lines containing a final mate position.\n"
          ]
        }
      ]
    },
    {
      "cell_type": "code",
      "source": [
        "!head -n 50 {filtered_output_file}"
      ],
      "metadata": {
        "id": "J9U2I1tzPR8m",
        "outputId": "71cc388d-ed78-4293-f765-8e38268ebc9a",
        "colab": {
          "base_uri": "https://localhost:8080/"
        }
      },
      "execution_count": null,
      "outputs": [
        {
          "output_type": "stream",
          "name": "stdout",
          "text": [
            "PuzzleId,FEN,Moves,Rating,RatingDeviation,Popularity,NbPlays,Themes,GameUrl,OpeningTags\n",
            "000Zo,4r3/1k6/pp3r2/1b2P2p/3R1p2/P1R2P2/1P4PP/6K1 w - - 0 35,e5f6 e8e1 g1f2 e1f1,1353,75,86,622,endgame mate mateIn2 short,https://lichess.org/n8Ff742v#69,\n",
            "000hf,r1bqk2r/pp1nbNp1/2p1p2p/8/2BP4/1PN3P1/P3QP1P/3R1RK1 b kq - 0 19,e8f7 e2e6 f7f8 e6f7,1511,75,91,541,mate mateIn2 middlegame short,https://lichess.org/71ygsFeE/black#38,Horwitz_Defense Horwitz_Defense_Other_variations\n",
            "001Wz,4r1k1/5ppp/r1p5/p1n1RP2/8/2P2N1P/2P3P1/3R2K1 b - - 0 21,e8e5 d1d8 e5e8 d8e8,1125,82,88,71,backRankMate endgame mate mateIn2 short,https://lichess.org/84RH3LaP/black#42,\n",
            "001cr,8/3B2pp/p5k1/2p3P1/1p1p1K2/8/1P6/8 b - - 0 38,c5c4 d7e8,1792,76,91,991,bishopEndgame endgame mate mateIn1 oneMove,https://lichess.org/7FFNwibw/black#76,\n",
            "001gi,r6r/1pNk1ppp/2np4/b3p3/4P1b1/N1Q5/P4PPP/R3KB1R w KQ - 3 18,c7a8 a5c3,824,120,62,239,bodenMate hangingPiece mate mateIn1 middlegame oneMove,https://lichess.org/1sV2Hr22#35,Sicilian_Defense Sicilian_Defense_Other_variations\n",
            "001om,5r1k/pp4pp/5p2/1BbQp1r1/6K1/7P/1PP3P1/3R3R w - - 2 26,g4h4 c5f2 g2g3 f2g3,1018,80,89,220,mate mateIn2 middlegame short,https://lichess.org/VWOIWtIh#51,\n",
            "001w5,1rb2rk1/q5P1/4p2p/3p3p/3P1P2/2P5/2QK3P/3R2R1 b - - 0 29,f8f7 c2h7 g8h7 g7g8q,1049,80,85,205,advancedPawn attraction mate mateIn2 middlegame promotion short,https://lichess.org/0e1vxAEn/black#58,\n",
            "001wR,6nr/pp3p1p/k1p5/8/1QN5/2P1P3/4KPqP/8 b - - 5 26,b7b5 b4a5 a6b7 c4d6 b7b8 a5d8,1168,76,98,2031,endgame long mate mateIn3,https://lichess.org/ruvbd9JW/black#52,\n",
            "001wb,r3k2r/pb1p1ppp/1b4q1/1Q2P3/8/2NP1Pn1/PP4PP/R1B2R1K w kq - 1 17,h2g3 g6h5,1264,77,90,109,mate mateIn1 middlegame oneMove,https://lichess.org/hNzYRMWP#33,Ruy_Lopez Ruy_Lopez_Bird_Variation\n",
            "002CP,r5k1/pp4pp/4p1q1/4p3/3n4/P5P1/1PP2Q1P/2KR1R2 w - - 4 24,f2e3 g6c2,927,81,69,83,endgame mate mateIn1 oneMove queensideAttack,https://lichess.org/pHZnIFdb#47,\n",
            "002Z9,4r1k1/1p2R1p1/p2p2Pp/P1pP4/5q2/1R3p2/1P1Q3P/5B1K b - - 0 34,f4d2 e7e8,1237,99,69,48,endgame hangingPiece master mate mateIn1 oneMove,https://lichess.org/Ek4aENjD/black#68,\n",
            "002vV,8/6k1/2R4p/5p1P/5P1K/6P1/8/r7 w - - 2 58,c6b6 a1h1,399,97,100,287,endgame master mate mateIn1 oneMove rookEndgame,https://lichess.org/KB7FAntf#115,\n",
            "003AX,2r2rk1/5ppp/bq2p3/p1ppP1N1/Pb1P2P1/1P2P2P/2QN4/2R1K2R b K - 1 18,c5d4 c2h7,1041,76,97,402,kingsideAttack mate mateIn1 middlegame oneMove,https://lichess.org/kRgejRSt/black#36,French_Defense French_Defense_Advance_Variation\n",
            "003IX,8/3pk3/R7/1R2Pp1p/2PPnKr1/8/8/8 w - - 4 43,f4f5 e4g3,1652,74,90,1410,endgame mate mateIn1 oneMove,https://lichess.org/576Btq56#85,\n",
            "003Tx,2r5/pR5p/5p1k/4p3/4r3/B4nPP/PP3P2/1K2R3 w - - 0 27,e1e4 f3d2 b1a1 c8c1,1542,88,81,701,backRankMate endgame fork mate mateIn2 short,https://lichess.org/A7j9VEC0#53,\n",
            "003YF,r4rk1/1pp2ppp/p2p4/2bPp3/2P1Pn1q/P1N2B2/1P3P2/R1BQK1R1 w Q - 1 15,c1f4 h4f2,1103,89,78,60,attackingF2F7 mate mateIn1 middlegame oneMove,https://lichess.org/5DK4vDDB#29,Mexican_Defense Mexican_Defense_Other_variations\n",
            "0042j,3r2k1/4nppp/pq1p1b2/1p2P3/2r2P2/2P1NR2/PP1Q2BP/3R2K1 b - - 0 24,d6e5 d2d8 b6d8 d1d8,449,103,94,1265,backRankMate mate mateIn2 middlegame short,https://lichess.org/DuM2FZjg/black#48,\n",
            "004JD,3r4/R7/2p5/p1P2p2/1p4k1/nP6/P2KNP2/8 w - - 3 41,d2e3 a3c2,1309,75,91,2688,endgame mate mateIn1 oneMove,https://lichess.org/6vTeEc3x#81,\n",
            "004WZ,r6k/1b3pp1/p1q1pn1p/2p5/P1B5/1PN4Q/2P1RP1P/R4Kr1 w - - 2 26,f1g1 c6h1,909,79,93,100,mate mateIn1 middlegame oneMove,https://lichess.org/BQIdXPOM#51,\n",
            "004X6,1r4k1/p4ppp/2Q5/3pq3/8/P6P/2PR1PP1/Rr4K1 w - - 1 26,a1b1 b8b1 d2d1 b1d1,1176,278,83,11,endgame mate mateIn2 short,https://lichess.org/wvPFkjF9#51,\n",
            "004iZ,r2r2k1/2q1bpp1/3p1n1p/1ppN4/1P1BP3/P5Q1/4RPPP/R5K1 b - - 1 20,f6d5 g3g7,461,97,89,926,kingsideAttack mate mateIn1 middlegame oneMove,https://lichess.org/dQ85JUe1/black#40,\n",
            "004kB,4rr1k/pQpn2pp/3p1q2/8/8/2P5/PP3PPP/RN3RK1 w - - 1 16,b7c7 f6f2 f1f2 e8e1 f2f1 e1f1,1213,76,60,189,kingsideAttack long mate mateIn3 middlegame sacrifice,https://lichess.org/Cl9T6bjt#31,Ruy_Lopez Ruy_Lopez_Steinitz_Defense\n",
            "004zI,2q3k1/4br1p/6RQ/1p1n2p1/7P/1P4P1/1B2PP2/6K1 b - - 0 27,h7g6 h6h8,1443,75,79,314,endgame mate mateIn1 oneMove,https://lichess.org/HE33gdt4/black#54,\n",
            "005Bm,4rk2/p1q5/1p3Q1b/8/1p5N/2P1p3/P3P3/2K5 b - - 0 43,c7f7 h4g6 f8g8 f6h8,1268,220,100,13,endgame mate mateIn2 pin short,https://lichess.org/KKslCMev/black#86,\n",
            "005N7,r6k/2q3pp/8/2p1n3/R1Qp4/7P/2PB1PP1/6K1 b - - 0 32,e5c4 a4a8 c7b8 a8b8,423,107,94,1708,backRankMate endgame hangingPiece mate mateIn2 short,https://lichess.org/jxZhmGhg/black#64,\n",
            "005nD,3rk2r/2qn1pp1/p1Q1R3/3n3p/8/8/PP4PP/5R1K b k - 0 23,f7e6 c6e6 d5e7 e6f7,1014,75,99,612,fork mate mateIn2 middlegame short,https://lichess.org/hlgaj6lV/black#46,\n",
            "005wy,1r6/pp2kpp1/2n1p1n1/3p2PQ/5P2/2PqP3/PP1N4/2KR3R w - - 3 27,h5h7 c6b4 c3b4 b8c8 d2c4 c8c4,1994,75,94,4217,long mate mateIn3 middlegame queensideAttack sacrifice,https://lichess.org/mBQMheB4#53,\n",
            "0061g,6k1/pp3pp1/2p1q1Pp/3b4/8/6Q1/PB3Pp1/3RrNK1 b - - 2 27,e1d1 g3b8 e6e8 b8e8,802,92,73,265,endgame mate mateIn2 short,https://lichess.org/dJ3xEKJK/black#54,\n",
            "006GK,2kr1br1/ppBb1ppp/8/3P2Q1/3n2n1/5N2/PP3qPP/RN2R2K b - - 0 16,d4f3 g5d8,1086,145,71,16,mate mateIn1 oneMove opening queensideAttack,https://lichess.org/CSpoYrv7/black#32,Italian_Game Italian_Game_Two_Knights_Defense\n",
            "006HV,1r6/5k2/2p1pNp1/p5Pp/1pQ1P2P/2P4R/KP3P2/3q4 w - - 4 31,c4c6 b4b3 a2a3 d1a1,1182,75,93,977,endgame mate mateIn2 short,https://lichess.org/ibb2c72C#61,\n",
            "006pe,r4r2/2q1NN2/4bQpk/2n4p/pp5P/8/1PP2PP1/2KR3R b - - 0 28,e6f7 e7f5 h6h7 f6g7,1619,75,98,994,master mate mateIn2 middlegame pin short,https://lichess.org/gkSEAS27/black#56,\n",
            "007HB,rn2q1k1/pp3ppp/2pb4/3p1B2/2Pn4/1Q3N2/PP3PPP/R1B4K w - - 0 15,f3d4 e8e1,543,88,93,129,mate mateIn1 middlegame oneMove,https://lichess.org/prYQo0BK#29,Petrovs_Defense Petrovs_Defense_Classical_Attack\n",
            "007Rn,4r1k1/p4p1p/1p6/6q1/3P2n1/P4Q2/1P1B2P1/7K w - - 0 34,d2g5 e8e1 f3f1 e1f1,992,82,75,74,endgame mate mateIn2 short,https://lichess.org/L9kH7FqT#67,\n",
            "007XE,2kr3r/p1p1bpp1/2p2n1p/8/8/1P6/P1P1RPPP/RNB3K1 w - - 1 16,e2e7 d8d1 e7e1 d1e1,645,90,79,66,backRankMate fork mate mateIn2 middlegame short,https://lichess.org/f4f7UwiT#31,Kings_Pawn_Game Kings_Pawn_Game_Leonardis_Variation\n",
            "007c6,2kr3r/pp1n2pp/2QB1bp1/5q2/2B5/8/PPP2PPP/3R1RK1 b - - 0 17,b7c6 c4a6,723,79,56,153,bodenMate mate mateIn1 middlegame oneMove,https://lichess.org/vqwzqZHC/black#34,Elephant_Gambit Elephant_Gambit_Other_variations\n",
            "007en,rn3rk1/4pp1p/3p2pB/2q4P/3bP1b1/Pp2Q3/1P2B3/1K1R2NR w - - 0 20,e3d4 c5c2 b1a1 a8a3 b2a3 c2a2,1833,76,99,434,long mate mateIn3 middlegame queensideAttack sacrifice,https://lichess.org/jzE2yKAk#39,\n",
            "007fJ,8/1P3ppp/8/8/8/2pk3P/3p2P1/3K4 w - - 0 52,b7b8q c3c2,500,105,95,358,advancedPawn endgame mate mateIn1 oneMove queenEndgame,https://lichess.org/34ezZi7R#103,\n",
            "007ku,r1bq3Q/1np2kp1/p5B1/1p1Pp3/1Pn2BP1/2b2P2/P3K3/R4N2 b - - 5 35,f7g6 h8h5 g6f6 f4g5,1629,74,89,960,mate mateIn2 middlegame short,https://lichess.org/QveLbBjG/black#70,\n",
            "008GK,1k1r4/ppp3p1/8/1P5p/8/P3n2P/2P1r1P1/B3NRK1 b - - 4 31,d8d1 f1f8 d1d8 f8d8,468,104,89,1649,backRankMate endgame mate mateIn2 short,https://lichess.org/9vFFDYsH/black#62,\n",
            "008LD,8/6pp/4N1k1/5p2/5P2/5rPb/4R2P/6K1 w - - 0 35,e6g5 f3f1,412,93,78,166,endgame mate mateIn1 oneMove,https://lichess.org/jzHHsjDp#69,\n",
            "008Nz,6k1/2p2ppp/pnp5/B7/2P3PP/1P1bPPR1/r6r/3R2K1 b - - 1 29,d3e2 d1d8,457,99,84,885,backRankMate mate mateIn1 middlegame oneMove,https://lichess.org/HNU4zavC/black#58,\n",
            "008o6,Q5k1/p1p3p1/5rP1/8/3P4/7P/q3r3/B4RK1 b - - 1 34,f6f8 a8f8,471,87,75,118,endgame mate mateIn1 oneMove,https://lichess.org/1k4lXfEi/black#68,\n",
            "008oX,4r1k1/2R3pp/2p4q/1p1p4/3P4/P7/1PP2R2/1K1N4 b - - 3 32,e8e1 c7c8 e1e8 c8e8,978,76,71,217,endgame mate mateIn2 short,https://lichess.org/APGKH8YH/black#64,\n",
            "0092z,2r3k1/2qR1ppp/p7/2p2Q2/P7/7P/5PP1/6K1 b - - 3 26,c7c6 f5f7 g8h8 f7g7,946,86,94,415,endgame mate mateIn2 short,https://lichess.org/fjaha7q0/black#52,\n",
            "009BH,3r2k1/6p1/4Q3/4B3/1p3P2/4PKP1/3q4/8 b - - 17 51,g8h8 e6h6 h8g8 h6g7,1465,77,99,2320,endgame mate mateIn2 pin short,https://lichess.org/QauOOpOY/black#102,\n",
            "009IO,3rk3/5p1r/p2Np1p1/3bP3/P2n4/8/1P3RPP/5RK1 b - - 4 25,e8e7 f2f7 h7f7 f1f7,1166,81,87,540,hookMate mate mateIn2 middlegame short,https://lichess.org/LJBrm9Or/black#50,\n",
            "009L0,6k1/pb2r1pN/1n4Bp/3p4/1P2pR2/P7/3R1PPP/2r3K1 w - - 2 30,d2d1 c1d1,706,146,18,23,backRankMate hangingPiece mate mateIn1 middlegame oneMove,https://lichess.org/SAhQtou2#59,\n",
            "009bR,4r2k/3q2r1/1p4pQ/p1pP4/2P4P/1N4p1/PP3RK1/8 b - - 1 37,g7h7 f2f8 e8f8 h6f8,1046,76,82,146,endgame mate mateIn2 short,https://lichess.org/rvHGlZar/black#74,\n",
            "009f8,8/1p4p1/pb2ppkp/3n4/3P4/P3BN1P/1P2KPP1/8 b - - 0 26,g6f5 f3h4 f5e4 f2f3,1198,80,94,169,endgame mate mateIn2 short,https://lichess.org/paDYagZM/black#52,\n"
          ]
        }
      ]
    },
    {
      "cell_type": "code",
      "source": [
        "!ls -lh"
      ],
      "metadata": {
        "id": "UNbo8ab8TlAi",
        "outputId": "1c13d5eb-0f44-40aa-d676-cf4b8707a388",
        "colab": {
          "base_uri": "https://localhost:8080/"
        }
      },
      "execution_count": null,
      "outputs": [
        {
          "output_type": "stream",
          "name": "stdout",
          "text": [
            "total 1.2G\n",
            "-rw-r--r-- 1 root root 801M Jan  3 15:20 lichess_db_puzzle.csv\n",
            "-rw-r--r-- 1 root root 218M Jan  2 06:56 lichess_db_puzzle.csv.zst\n",
            "-rw-r--r-- 1 root root 210M Jan  3 15:23 lichess_db_puzzle_mate.csv\n",
            "drwxr-xr-x 1 root root 4.0K Dec 19 14:20 sample_data\n"
          ]
        }
      ]
    },
    {
      "cell_type": "code",
      "source": [
        "# remove initial compressed version of lichess_db and uncompressed version as well\n",
        "!rm lichess_db_puzzle.csv.zst\n",
        "!rm lichess_db_puzzle.csv"
      ],
      "metadata": {
        "id": "Yx9dgAzuYdic"
      },
      "execution_count": null,
      "outputs": []
    },
    {
      "cell_type": "code",
      "source": [
        "import pandas as pd\n",
        "\n",
        "filtered_output_file = 'lichess_db_puzzle_mate.csv'\n",
        "\n",
        "# Load CSV file into a DataFrame\n",
        "df = pd.read_csv(filtered_output_file)\n",
        "\n",
        "# Process each row using itertuples\n",
        "line=0\n",
        "for row in df.itertuples(index=True):\n",
        "    # Custom processing logic\n",
        "    print(f\"Row {line} {df['PuzzleId'][line]} | {df['FEN'][line]} | {df['Moves'][line]}|\")\n",
        "\n",
        "    line = line + 1\n",
        "    if line > 10:\n",
        "      break\n",
        "\n"
      ],
      "metadata": {
        "id": "Z0MvpEH1Vyzg",
        "colab": {
          "base_uri": "https://localhost:8080/"
        },
        "outputId": "6cae8250-3903-4c9c-d1fb-5eb708776283"
      },
      "execution_count": null,
      "outputs": [
        {
          "output_type": "stream",
          "name": "stdout",
          "text": [
            "Row 0 000Zo | 4r3/1k6/pp3r2/1b2P2p/3R1p2/P1R2P2/1P4PP/6K1 w - - 0 35 | e5f6 e8e1 g1f2 e1f1|\n",
            "Row 1 000hf | r1bqk2r/pp1nbNp1/2p1p2p/8/2BP4/1PN3P1/P3QP1P/3R1RK1 b kq - 0 19 | e8f7 e2e6 f7f8 e6f7|\n",
            "Row 2 001Wz | 4r1k1/5ppp/r1p5/p1n1RP2/8/2P2N1P/2P3P1/3R2K1 b - - 0 21 | e8e5 d1d8 e5e8 d8e8|\n",
            "Row 3 001cr | 8/3B2pp/p5k1/2p3P1/1p1p1K2/8/1P6/8 b - - 0 38 | c5c4 d7e8|\n",
            "Row 4 001gi | r6r/1pNk1ppp/2np4/b3p3/4P1b1/N1Q5/P4PPP/R3KB1R w KQ - 3 18 | c7a8 a5c3|\n",
            "Row 5 001om | 5r1k/pp4pp/5p2/1BbQp1r1/6K1/7P/1PP3P1/3R3R w - - 2 26 | g4h4 c5f2 g2g3 f2g3|\n",
            "Row 6 001w5 | 1rb2rk1/q5P1/4p2p/3p3p/3P1P2/2P5/2QK3P/3R2R1 b - - 0 29 | f8f7 c2h7 g8h7 g7g8q|\n",
            "Row 7 001wR | 6nr/pp3p1p/k1p5/8/1QN5/2P1P3/4KPqP/8 b - - 5 26 | b7b5 b4a5 a6b7 c4d6 b7b8 a5d8|\n",
            "Row 8 001wb | r3k2r/pb1p1ppp/1b4q1/1Q2P3/8/2NP1Pn1/PP4PP/R1B2R1K w kq - 1 17 | h2g3 g6h5|\n",
            "Row 9 002CP | r5k1/pp4pp/4p1q1/4p3/3n4/P5P1/1PP2Q1P/2KR1R2 w - - 4 24 | f2e3 g6c2|\n",
            "Row 10 002Z9 | 4r1k1/1p2R1p1/p2p2Pp/P1pP4/5q2/1R3p2/1P1Q3P/5B1K b - - 0 34 | f4d2 e7e8|\n"
          ]
        }
      ]
    },
    {
      "cell_type": "code",
      "source": [
        "pip install python-chess"
      ],
      "metadata": {
        "colab": {
          "base_uri": "https://localhost:8080/"
        },
        "id": "ybiO6UyuZfRK",
        "outputId": "a8464967-45e4-4bd9-ce8a-6d1231a4efa7"
      },
      "execution_count": null,
      "outputs": [
        {
          "output_type": "stream",
          "name": "stdout",
          "text": [
            "Requirement already satisfied: python-chess in /usr/local/lib/python3.10/dist-packages (1.999)\n",
            "Requirement already satisfied: chess<2,>=1 in /usr/local/lib/python3.10/dist-packages (from python-chess) (1.11.1)\n"
          ]
        }
      ]
    },
    {
      "cell_type": "code",
      "source": [
        "import pandas as pd\n",
        "import chess\n",
        "import numpy as np\n",
        "from datetime import datetime, timedelta\n",
        "\n",
        "def getPiecePositions(piece_type, piece_color):\n",
        "    # Now let's find all the pieces of given type and their positions\n",
        "    positions = []\n",
        "\n",
        "    for square in chess.SQUARES:\n",
        "        piece = board.piece_at(square)\n",
        "        if piece is not None and piece.piece_type == piece_type and piece.color == piece_color:\n",
        "          # In python-chess, files are numbered from 0 to 7 (where 0 corresponds to the 'a' file and 7 corresponds to the 'h' file),\n",
        "          # and ranks also range from 0 to 7 (with 0 being rank 1 and 7 being rank 8).\n",
        "          # You can adjust these values if you need them to match standard chess notation.\n",
        "          x = int(chess.square_file(square))\n",
        "          y = int(chess.square_rank(square))\n",
        "          positions.append({\"coord\":[x, y], \"square\":chess.square_name(square)})  # Store the position in algebraic notation\n",
        "\n",
        "    return positions\n",
        "\n",
        "filtered_output_file = 'lichess_db_puzzle_mate.csv'\n",
        "\n",
        "# Load CSV file into a DataFrame\n",
        "df = pd.read_csv(filtered_output_file)\n",
        "df['Rook_Knight'] = False\n",
        "df['puzzle_ref'] = 'https://lichess.org/training/' + df['PuzzleId']\n",
        "\n",
        "# Process each row using itertuples\n",
        "line=0\n",
        "matched_lines=0\n",
        "start_time = datetime.now()\n",
        "for row in df.itertuples(index=True):\n",
        "\n",
        "    if (line % 100000) == 0:\n",
        "      # Calculate the time delta\n",
        "      time_delta = datetime.now() - start_time\n",
        "      print(f\"{time_delta}: puzzles searched: {line} matches: {matched_lines}\")\n",
        "\n",
        "    #if df['PuzzleId'][line] != 'pSskg':\n",
        "    #  line = line + 1\n",
        "    #  continue\n",
        "\n",
        "    moves_to_apply = df['Moves'][line].split()\n",
        "\n",
        "    # Print the board position\n",
        "    #print(board)\n",
        "    #display(board)\n",
        "    #print('Making moves')\n",
        "    # Load the position from the FEN string\n",
        "    board = chess.Board(df['FEN'][line])\n",
        "\n",
        "    # Apply each move to the board\n",
        "    for move in moves_to_apply:\n",
        "        # Create a Move object from the UCI string\n",
        "        chess_move = chess.Move.from_uci(move)\n",
        "\n",
        "        # Check if the move is legal before making it\n",
        "        if chess_move in board.legal_moves:\n",
        "            board.push(chess_move)\n",
        "        else:\n",
        "            print(f\"Illegal move: {move}\")\n",
        "\n",
        "    mated_color = None\n",
        "    mating_color = None\n",
        "    # Check if the position is checkmate\n",
        "    if board.is_checkmate():\n",
        "        # Determine the color of the king being mated\n",
        "        # If it's white's turn to move, then black's king is in checkmate; otherwise, white's king is in checkmate.\n",
        "        if board.turn == chess.WHITE:\n",
        "            mated_color = chess.WHITE\n",
        "            mating_color = chess.BLACK\n",
        "        else:\n",
        "            mated_color = chess.BLACK\n",
        "            mating_color = chess.WHITE\n",
        "    else:\n",
        "        line = line + 1\n",
        "        continue\n",
        "\n",
        "    # find pieces that deliver the check\n",
        "    # Determine the square of the king in check\n",
        "\n",
        "    # Now let's find all the white queens and their positions\n",
        "    king = getPiecePositions(chess.KING, mated_color)\n",
        "    knights = getPiecePositions(chess.KNIGHT, mating_color)\n",
        "    rooks = getPiecePositions(chess.ROOK, mating_color)\n",
        "\n",
        "    # check if there is a queen and rook available in this position\n",
        "    if len(knights) == 0 or len(rooks) == 0:\n",
        "      line = line + 1\n",
        "      continue\n",
        "\n",
        "    king_pos = np.array(king[0][\"coord\"])\n",
        "\n",
        "    valid_rooks = []           # Find a valid distance between a king and rook\n",
        "    for rook in rooks:\n",
        "      rook_pos = np.array(rook[\"coord\"])\n",
        "      delta = king_pos - rook_pos\n",
        "      # Check if rook is in right or left square of king\n",
        "      if abs(delta[1])  == 0 and abs(delta[0]) == 1:\n",
        "        valid_rooks.append(rook)\n",
        "\n",
        "      # Check if rook is above or below square of king\n",
        "      if abs(delta[0])  == 0 and abs(delta[1]) == 1:\n",
        "        valid_rooks.append(rook)\n",
        "\n",
        "    if len(valid_rooks) == 0:\n",
        "      line = line + 1\n",
        "      continue\n",
        "\n",
        "    valid_knights = []           # Find a valid distance between a king and queen\n",
        "    for knight in knights:\n",
        "      knight_pos = np.array(knight[\"coord\"])\n",
        "      delta = king_pos - knight_pos\n",
        "      if abs(delta[0])  == 0 and abs(delta[1]) == 2 or abs(delta[0])  == 2 and abs(delta[1]) == 0:\n",
        "        valid_knights.append(knight)\n",
        "\n",
        "    if len(valid_knights) == 0:\n",
        "      line = line + 1\n",
        "      continue\n",
        "\n",
        "    mating_rooks = []       # validate rook and knight positions as file or rank\n",
        "    mating_knights = []\n",
        "    for knight in valid_knights:\n",
        "      for rooks in valid_rooks:\n",
        "        rook_pos = np.array(rook[\"coord\"])\n",
        "        knight_pos = np.array(knight[\"coord\"])\n",
        "        delta = rook_pos - knight_pos\n",
        "\n",
        "        # Knight and rook must be on the same rank or file next to each other\n",
        "        # and should form a triangle with the king\n",
        "        # 1) Queen and Rook are on one file (same x coordinate)\n",
        "        if abs(delta[0]) == 0 and abs(delta[1]) == 1:\n",
        "          mating_rooks.append(rook)\n",
        "          mating_knights.append(knight)\n",
        "        else:\n",
        "          # 2) Queen and Rook are on one rank (same y coordinate)\n",
        "          if abs(delta[1]) == 0 and abs(delta[0]) == 1:\n",
        "            mating_rooks.append(rook)\n",
        "            mating_knights.append(knight)\n",
        "\n",
        "    if len(mating_rooks) == 0 or len(mating_knights) == 0:\n",
        "      line = line + 1\n",
        "      continue\n",
        "\n",
        "    # Print the board position\n",
        "    # print(board)\n",
        "    #print(f\"Row {line} {df['PuzzleId'][line]} | {df['FEN'][line]} | {moves_to_apply}| | {df['GameUrl'][line]}\")\n",
        "    #print(f\"Positions of {'white' if mated_color else 'black'}'s king {king} {'white' if mating_color else 'black'} queens {queens} and rooks {rooks}\")\n",
        "    #print(f\"{'white' if mated_color else 'black'}'s king is checkmated by {'white' if mating_color else 'black'}.\")\n",
        "    #print(f\"Positions of {'white' if mated_color else 'black'}'s king {king} mated by {'white' if mating_color else 'black'} queens {mating_queens} and rooks {mating_rooks}\")\n",
        "    #print(f\"Mated by {'white' if mating_color else 'black'} queens {mating_queens} and rooks {mating_rooks} -> center: {mating_deltas}\")\n",
        "    #display(board)\n",
        "    #print('------------------------------------------------------')\n",
        "    #print()\n",
        "\n",
        "    df.loc[line, \"Rook_Knight\"] = True\n",
        "\n",
        "    # Print the board position #################################################\n",
        "    #print(board)\n",
        "    #display(board)\n",
        "    #print('DEBUGGING')\n",
        "\n",
        "    line = line + 1\n",
        "    matched_lines = matched_lines + 1\n",
        "\n",
        "    # Break after x matches (for debugging only - when developing the script)\n",
        "    #if (matched_lines > 100):\n",
        "    #  break\n"
      ],
      "metadata": {
        "colab": {
          "base_uri": "https://localhost:8080/"
        },
        "id": "volxaL8Ve_Lq",
        "outputId": "bf697834-f38b-4802-82a4-c5d89923a6f1"
      },
      "execution_count": null,
      "outputs": [
        {
          "output_type": "stream",
          "name": "stdout",
          "text": [
            "0:00:00.002954: puzzles searched: 0 matches: 0\n",
            "0:00:47.284819: puzzles searched: 100000 matches: 150\n",
            "0:01:37.280633: puzzles searched: 200000 matches: 293\n",
            "0:02:26.845910: puzzles searched: 300000 matches: 422\n",
            "0:03:13.871791: puzzles searched: 400000 matches: 577\n",
            "0:03:59.366078: puzzles searched: 500000 matches: 706\n",
            "0:04:44.644627: puzzles searched: 600000 matches: 844\n",
            "0:05:32.386120: puzzles searched: 700000 matches: 999\n",
            "0:06:18.312096: puzzles searched: 800000 matches: 1137\n",
            "0:07:04.557416: puzzles searched: 900000 matches: 1296\n",
            "0:07:49.911761: puzzles searched: 1000000 matches: 1433\n",
            "0:08:38.158952: puzzles searched: 1100000 matches: 1589\n",
            "0:09:25.325976: puzzles searched: 1200000 matches: 1759\n"
          ]
        }
      ]
    },
    {
      "cell_type": "code",
      "source": [
        "print(f\"{matched_lines} Vucovic patterns found.\")\n",
        "\n",
        "\n",
        "# Output the first 100 rows of the DataFrame\n",
        "filtered_df = df[df['Rook_Knight'] == True] # Filter where 'Rook_Knight' is True\n",
        "result = filtered_df.head(100)  # Get the first 100 rows\n",
        "\n",
        "print(result)  # Display the result"
      ],
      "metadata": {
        "id": "FngEJZPVfG7b",
        "colab": {
          "base_uri": "https://localhost:8080/"
        },
        "outputId": "51fe8372-242a-4704-a610-d9612deb6ab8"
      },
      "execution_count": null,
      "outputs": [
        {
          "output_type": "stream",
          "name": "stdout",
          "text": [
            "1809 Vucovic patterns found.\n",
            "      PuzzleId                                                FEN  \\\n",
            "180      00VIe               8/8/8/P6p/8/2RnkN2/r7/3K4 w - - 1 60   \n",
            "336      00yzf   3rk3/3N2R1/4P1pr/3pP3/2p5/6p1/PP6/2K5 b - - 3 29   \n",
            "2136     06MoJ          6R1/1P6/8/7p/4P2P/4kn2/1r6/5K2 w - - 3 39   \n",
            "2242     06l4B     1k6/1p6/1Qn5/PN1p4/5b2/7P/1Pr1KP2/8 w - - 0 34   \n",
            "2648     07uNx      3Q4/5pkp/4P1p1/8/7P/6P1/rr3n2/5RK1 w - - 0 34   \n",
            "...        ...                                                ...   \n",
            "72723    3ePoO            8/8/5RK1/5n2/B4k1p/1P6/6r1/8 w - - 3 61   \n",
            "73059    3fRfd  6k1/6pp/p7/P2P4/1P2N3/3np1P1/3r1r2/R2K3R w - -...   \n",
            "74792    3kkF2  3r2r1/Npk2p1p/B2pb3/2q5/3QP3/7P/P1P1KbP1/1R5R ...   \n",
            "75399    3mp9w  6k1/4q1pp/4P3/3p1p2/p2Nn2Q/P1P4P/1r3rP1/R1R4K ...   \n",
            "75486    3n7Ru  2r2b1r/3np3/pq2Qkpn/1p4N1/2p2P2/2P5/PPB3PP/4RR...   \n",
            "\n",
            "                     Moves  Rating  RatingDeviation  Popularity  NbPlays  \\\n",
            "180              f3e1 a2d2    1974               79          94    16548   \n",
            "336    g3g2 d7f6 e8f8 g7f7    1877               85         100       31   \n",
            "2136            b7b8q b2f2    1466               91          84       85   \n",
            "2242   e2d3 c6b4 d3d4 c2c4    1958               79          78      469   \n",
            "2648   e6f7 f2h3 g1h1 b2h2     965               78          97     4095   \n",
            "...                    ...     ...              ...         ...      ...   \n",
            "72723            g6h5 g2g5    1272              100          87      155   \n",
            "73059            e4d2 f2d2    1392               90          77      150   \n",
            "74792            c5d4 b1b7    1551              101          44      336   \n",
            "75399  h4e7 e4g3 h1g1 f2g2    1299               76          94     5927   \n",
            "75486  b6e6 e1e6 f6g7 e6g6    1234               75          95    18207   \n",
            "\n",
            "                                       Themes  \\\n",
            "180              endgame mate mateIn1 oneMove   \n",
            "336                endgame mate mateIn2 short   \n",
            "2136      endgame master mate mateIn1 oneMove   \n",
            "2242               endgame mate mateIn2 short   \n",
            "2648               endgame mate mateIn2 short   \n",
            "...                                       ...   \n",
            "72723            endgame mate mateIn1 oneMove   \n",
            "73059     endgame master mate mateIn1 oneMove   \n",
            "74792  master mate mateIn1 middlegame oneMove   \n",
            "75399           mate mateIn2 middlegame short   \n",
            "75486           mate mateIn2 middlegame short   \n",
            "\n",
            "                                     GameUrl OpeningTags  Rook_Knight  \\\n",
            "180         https://lichess.org/ugqyRWZm#119         NaN         True   \n",
            "336    https://lichess.org/OIVHVypq/black#58         NaN         True   \n",
            "2136         https://lichess.org/jZ0m8W9k#77         NaN         True   \n",
            "2242         https://lichess.org/TZA9RwgR#67         NaN         True   \n",
            "2648         https://lichess.org/93vBHQOE#67         NaN         True   \n",
            "...                                      ...         ...          ...   \n",
            "72723       https://lichess.org/lXADNqbA#121         NaN         True   \n",
            "73059        https://lichess.org/spsFEoQ5#61         NaN         True   \n",
            "74792  https://lichess.org/aApxhWkm/black#60         NaN         True   \n",
            "75399        https://lichess.org/94R6fxkZ#69         NaN         True   \n",
            "75486  https://lichess.org/jZ2nrBNw/black#44         NaN         True   \n",
            "\n",
            "                               puzzle_ref  \n",
            "180    https://lichess.org/training/00VIe  \n",
            "336    https://lichess.org/training/00yzf  \n",
            "2136   https://lichess.org/training/06MoJ  \n",
            "2242   https://lichess.org/training/06l4B  \n",
            "2648   https://lichess.org/training/07uNx  \n",
            "...                                   ...  \n",
            "72723  https://lichess.org/training/3ePoO  \n",
            "73059  https://lichess.org/training/3fRfd  \n",
            "74792  https://lichess.org/training/3kkF2  \n",
            "75399  https://lichess.org/training/3mp9w  \n",
            "75486  https://lichess.org/training/3n7Ru  \n",
            "\n",
            "[100 rows x 12 columns]\n"
          ]
        }
      ]
    },
    {
      "cell_type": "code",
      "source": [
        "# Assuming 'df' is your DataFrame\n",
        "filtered_df.to_csv('lichess_db_puzzle_mate_vucovic.csv', index=False, header=True)"
      ],
      "metadata": {
        "id": "u-86NKC2_pd1"
      },
      "execution_count": null,
      "outputs": []
    },
    {
      "cell_type": "code",
      "source": [
        "!ls -lh"
      ],
      "metadata": {
        "colab": {
          "base_uri": "https://localhost:8080/"
        },
        "id": "bu4u-z01J_DZ",
        "outputId": "731a85b7-ff1d-434e-9be2-fb9846a91f6d"
      },
      "execution_count": null,
      "outputs": [
        {
          "output_type": "stream",
          "name": "stdout",
          "text": [
            "total 211M\n",
            "-rw-r--r-- 1 root root 210M Jan  3 12:43 lichess_db_puzzle_mate.csv\n",
            "-rw-r--r-- 1 root root 1.2M Jan  3 13:37 lichess_db_puzzle_mate_triangle.csv\n",
            "drwxr-xr-x 1 root root 4.0K Dec 19 14:20 sample_data\n"
          ]
        }
      ]
    },
    {
      "cell_type": "code",
      "source": [
        "# prompt: store the resulting CSV file in google drive\n",
        "\n",
        "!ls -lh\n",
        "from google.colab import drive\n",
        "\n",
        "drive.mount('/content/drive')\n",
        "\n",
        "# Specify the file path in your Google Drive\n",
        "drive_file_path = '/content/drive/MyDrive/lichess_db_puzzle_mate_vucovic.csv'\n",
        "\n",
        "# Copy the file to your Google Drive\n",
        "!cp lichess_db_puzzle_mate_vucovic.csv {drive_file_path}"
      ],
      "metadata": {
        "colab": {
          "base_uri": "https://localhost:8080/"
        },
        "id": "FJC64QJBE76U",
        "outputId": "1198ba1d-7a96-4c8f-dff5-da892d890dcc"
      },
      "execution_count": null,
      "outputs": [
        {
          "output_type": "stream",
          "name": "stdout",
          "text": [
            "total 211M\n",
            "drwx------ 6 root root 4.0K Jan  3 16:19 drive\n",
            "-rw-r--r-- 1 root root 210M Jan  3 15:23 lichess_db_puzzle_mate.csv\n",
            "-rw-r--r-- 1 root root 356K Jan  3 16:19 lichess_db_puzzle_mate_vucovic.csv\n",
            "drwxr-xr-x 1 root root 4.0K Dec 19 14:20 sample_data\n",
            "Drive already mounted at /content/drive; to attempt to forcibly remount, call drive.mount(\"/content/drive\", force_remount=True).\n"
          ]
        }
      ]
    },
    {
      "cell_type": "code",
      "source": [],
      "metadata": {
        "id": "PwPZuV-YNMgQ"
      },
      "execution_count": null,
      "outputs": []
    }
  ],
  "metadata": {
    "colab": {
      "provenance": [],
      "include_colab_link": true
    },
    "kernelspec": {
      "display_name": "Python 3",
      "name": "python3"
    }
  },
  "nbformat": 4,
  "nbformat_minor": 0
}